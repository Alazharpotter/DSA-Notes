{
 "cells": [
  {
   "cell_type": "markdown",
   "metadata": {},
   "source": [
    "### Sorting Algorithms\n",
    "- Purpose is to arrange a list of elements, according to some condition, ie lowest value to highest value\n",
    "- Unsorted List --> Sorting Algorithm --> Sorted List"
   ]
  },
  {
   "cell_type": "markdown",
   "metadata": {},
   "source": [
    "### The different sorting algorithms\n",
    "1. Bubble Sort\n",
    "2. Selection Sort (not covered)\n",
    "3. Insertion Sort\n",
    "4. Quick Sort \n",
    "5. Merge Sort\n"
   ]
  },
  {
   "cell_type": "markdown",
   "metadata": {},
   "source": [
    "### DO NOTE\n",
    "- All the sorting algorithms' goal is to reorder the list from smallest element to largest (integer)"
   ]
  },
  {
   "cell_type": "markdown",
   "metadata": {},
   "source": [
    "### Bubble Sort\n",
    "\n",
    "- Essentially what it does is compare first element, called the checking element (my own name), to the second element in the list and see if it is greater than it. If it is, it will swap place with the element. Then it will check if it is greater than the 3rd element and if it is, it will swap place with it.\n",
    "\n",
    "- If it comes to a point that it is not bigger than the adjacent element, it will not swap place with it. In this case the adjacent element will become the new checking element.\n",
    "\n",
    "- The new checking element will then check if it is bigger than the adjacent element. If it is, it will swap places with it. If it is not, the adjacent element becomes the new checking element.\n",
    "- This process if firstly done until the checking element reaches the end of the list (ie there is a loop of n-1)\n",
    "\n",
    "- After which, the checking element will restart at the first element and the whole process described above will go through again.\n",
    "\n",
    "- The whole process restarting at the checking element will also happen for (n-1) loops. \n",
    "\n",
    "- A list with 8 values will go through 49 loops as the outside iteration will go through 7 times while the inner loop another 7 times\n",
    "\n",
    "- T0 make this slightly more efficient, we can check if any swaps were made in the inner loop (swap --> will be given a boolean value). If no swaps were made, we know that the list is already sorted and use swap = False to break out of the loop early."
   ]
  },
  {
   "cell_type": "code",
   "execution_count": null,
   "metadata": {},
   "outputs": [],
   "source": [
    "# reorder list from lowest to highest value\n",
    "\n",
    "def bubble_sort_increasing(nums):\n",
    "    \n",
    "    y = 0\n",
    "    iteration = 0\n",
    "\n",
    "    while y < (len(nums)-1):\n",
    "\n",
    "        i = 0\n",
    "        swap = False\n",
    "        while i < (len(nums)-1):\n",
    "                      \n",
    "            if nums[i] > nums [i+1]:\n",
    "                nums[i],nums [i+1] = nums [i+1],nums[i]\n",
    "                swap = True          \n",
    "           \n",
    "            i = i + 1\n",
    "            iteration = iteration + 1 \n",
    "        \n",
    "        y = y + 1\n",
    "\n",
    "        if swap == False:\n",
    "            break\n",
    "\n",
    "\n",
    "    print(iteration)\n",
    "    \n",
    "    return nums        \n",
    "\n",
    "# reorder list from highest to lowest value\n",
    "def bubble_sort_decreasing(nums):\n",
    "    \n",
    "    y = 0\n",
    "    iteration = 0\n",
    "\n",
    "    while y < (len(nums)-1):\n",
    "\n",
    "        i = 0\n",
    "        swap = False\n",
    "        while i < (len(nums)-1):\n",
    "                      \n",
    "            if nums[i] < nums [i+1]:\n",
    "                nums[i],nums [i+1] = nums [i+1],nums[i]\n",
    "                swap = True          \n",
    "           \n",
    "            i = i + 1\n",
    "            iteration = iteration + 1 \n",
    "        \n",
    "        y = y + 1\n",
    "\n",
    "        if swap == False:\n",
    "            break\n",
    "\n",
    "\n",
    "    print(iteration)\n",
    "    \n",
    "    return nums     \n",
    "\n",
    "#unorder_list = [5,4,3,2,1]\n",
    "unorder_list = [4, 2, 6, 3, 4, 6, 2, 1]\n",
    "print(bubble_sort_decreasing(unorder_list))  "
   ]
  },
  {
   "cell_type": "markdown",
   "metadata": {},
   "source": [
    "### Insertion sort\n",
    "\n",
    "- Essentially, you start at the second element of the list and move towards the end of the list\n",
    "1. At the checking element, you will check if its smaller than the element to its left.\n",
    "2. If it is not smaller, adjacent element to the right will become the new checking element --> go back to process 1\n",
    "3. However, if it is smaller, it will switch places with the element on the left. It will still remain as the checking element. Then process (1) will take place. \n",
    "- Based on whether it is still bigger than the element on its left, process (2) or (3) will take place\n",
    "- This whole process will go on until we hit the last element\n",
    "\n",
    "- Common rule/hint for insertion --> \"i\" var cannot be zero."
   ]
  },
  {
   "cell_type": "code",
   "execution_count": null,
   "metadata": {},
   "outputs": [],
   "source": [
    "def insertion(nums):\n",
    "\n",
    "    i = 1\n",
    "\n",
    "    while i < len(nums):\n",
    "\n",
    "        while i>0 and nums[i]<nums[i-1]:\n",
    "            # Swapping part\n",
    "            nums[i],nums[i-1]=nums[i-1],nums[i]\n",
    "\n",
    "            # to iterate through and check all the elements to the left of the checking element. If checking element is smaller than all the others to its left\n",
    "            # we use the i>0 in the while loop to ensure that i does not become 0, because at nums[0], first index, there is no more elements to check to the left\n",
    "            i = i - 1 \n",
    "\n",
    "        #print(nums)\n",
    "        # To ensure that iteration happens throughout the whole list\n",
    "        i = i + 1\n",
    "\n",
    "        \n",
    "        \n",
    "\n",
    "    return nums\n",
    "\n",
    "\n",
    "unorder_list = [5, 2, 6, 1, 23, 7, -12, 12, -243, 0]\n",
    "print(insertion(unorder_list))"
   ]
  },
  {
   "cell_type": "markdown",
   "metadata": {},
   "source": [
    "### Merge Sort\n",
    "\n",
    "- Use divide and conquer method --> divide all your problem into the smallest unit and start solving from there\n",
    "- Recursion is the tool to use here\n",
    "- Break the whole list of elements, into individual lists containing a single element (smallest unit) --> a one element list is already sorted\n",
    "- Now compare the leftmost single element list with the one adjacent to it. Combine these 2 single element list into 1 sorted list --> where the left element is the smaller one\n",
    "- DO this for all the other elements and keep building the list until everything is sorted\n",
    "\n"
   ]
  },
  {
   "cell_type": "code",
   "execution_count": 38,
   "metadata": {},
   "outputs": [
    {
     "name": "stdout",
     "output_type": "stream",
     "text": [
      "[2, 19, 24, 27, 55, 59, 60, 60, 82, 82, 86, 99, 103, 105, 129, 137, 149, 158, 168, 180, 181, 186, 194, 204, 221, 224, 240, 244, 245, 261, 265, 278, 285, 287, 295, 300, 344, 368, 372, 391, 416, 428, 430, 440, 447, 450, 466, 469, 473, 474, 518, 543, 543, 543, 548, 548, 558, 562, 570, 573, 590, 620, 624, 641, 643, 657, 680, 681, 684, 698, 715, 716, 722, 724, 747, 748, 753, 784, 788, 800, 819, 825, 846, 860, 863, 889, 902, 911, 916, 921, 931, 934, 968, 973, 975, 987, 990, 991, 992, 996]\n"
     ]
    }
   ],
   "source": [
    "def merge_sort(nums):\n",
    "\n",
    "    # this portion is to recursively break the list of elements into single element lists\n",
    "    if len(nums)<=1:\n",
    "        return nums\n",
    "        \n",
    "    mid = len(nums)//2\n",
    "    nums_left = nums[:mid]\n",
    "    nums_right = nums[mid:]\n",
    "\n",
    "    sorted_left = merge_sort(nums_left)\n",
    "    sorted_right = merge_sort(nums_right)\n",
    "\n",
    "    # you want to use the sorted left and right and compare the values to start sorting them. To make code more comprehensible, this comparison is done in a new function\n",
    "    sorted_nums = merge_compare(sorted_left,sorted_right)\n",
    "\n",
    "    return sorted_nums\n",
    "\n",
    "def merge_compare(sorted_left,sorted_right):\n",
    "\n",
    "    # empty list which will be filled correctly and returned\n",
    "    merge_list = []\n",
    "\n",
    "    # Iterative vars for both the merge_list,sorted_left, sorted_right\n",
    "    i = 0\n",
    "    j = 0\n",
    "   \n",
    "\n",
    "    # Iterate through the lists and add the elements to their respective position\n",
    "\n",
    "    while i < len(sorted_left) and j < len(sorted_right):\n",
    "\n",
    "        \n",
    "        # if ith element in the left sorted list is smaller than right sorted list jth element, then update the merge list with the left sorted list element\n",
    "        # On the next iteration,  see if (i + 1) element in left_sorted list is smaller than jth element. If it is not, then we will go to the else statement below,\n",
    "        # and repeat the above logic for right_sorted list\n",
    "        if sorted_left[i] < sorted_right[j]:\n",
    "            merge_list.append(sorted_left[i])\n",
    "            i = i + 1\n",
    "\n",
    "        else:\n",
    "            merge_list.append(sorted_right[j])\n",
    "            j = j + 1 \n",
    "\n",
    "        #print(merge_list)\n",
    "\n",
    "    # the biggest element in either the left or right sorted list would not be added to this list. Since we dont know which list the element will be in, we return the remainder\n",
    "    # on both those lists, by using either i: or j: --> as both these values will increase only when the if/else statement runs. Therefore the biggest element will belong to the list\n",
    "    # which has (number or elements - either i or j = 1)#         \n",
    "    left_remainder_elements=sorted_left[i:]    \n",
    "    right_remainder_elements=sorted_right[j:]      \n",
    "\n",
    "    #print(left_remainder_elements)\n",
    "    #print(right_remainder_elements)\n",
    "\n",
    "    return merge_list + left_remainder_elements + right_remainder_elements\n",
    "\n",
    "\n",
    "\n",
    "\n",
    "unorder_list = [889, 105, 55, 137, 278, 657, 168, 265, 860, 245, 548, 590, 60, 466, 722, 991, 846, 287, 748, 27, 570, 992, 543, 788, 680, 391, 819, 698, 82, 753, 934, 747, 204, 372, 428, 59, 624, 716, 440, 996, 158, 715, 473, 518, 825, 863, 469, 180, 784, 244, 931, 224, 300, 221, 968, 990, 911, 285, 344, 24, 921, 681, 548, 543, 573, 261, 82, 368, 973, 987, 240, 643, 620, 641, 474, 194, 186, 86, 684, 447, 430, 416, 562, 558, 103, 295, 60, 902, 99, 19, 181, 149, 724, 543, 129, 975, 800, 2, 916, 450]\n",
    "print(merge_sort(unorder_list))\n",
    "\n",
    "#print(merge_compare([1, 4, 7, 9, 11,15], [-1, 0, 2, 3, 8, 12]))"
   ]
  },
  {
   "cell_type": "markdown",
   "metadata": {},
   "source": [
    "### QUICK SORT\n",
    "\n",
    "- Uses a pivot element to sort things out\n",
    "- Choosing the right pivot is critical\n",
    "- For the following exercise we will use the last elements as the pivot for simplicity\n",
    "\n",
    "- Essentially you iterate through the list, and the elements smaller than the pivot will be placed to the left the ones greater than the pivot will be placed to the right\n",
    "- Left and Right lists, to the pivot, will form their own lists, whereby the last elements in each list will be the new pivot\n",
    "- This process will go on recursively, until single element lists are reached\n",
    "\n",
    "- Key idea here is to use last element as pivot and to use recursion"
   ]
  },
  {
   "cell_type": "code",
   "execution_count": 45,
   "metadata": {},
   "outputs": [
    {
     "name": "stdout",
     "output_type": "stream",
     "text": [
      "[2, 19, 24, 27, 55, 59, 60, 60, 82, 82, 86, 99, 103, 105, 129, 137, 149, 158, 168, 180, 181, 186, 194, 204, 221, 224, 240, 244, 245, 261, 265, 278, 285, 287, 295, 300, 344, 368, 372, 391, 416, 428, 430, 440, 447, 450, 466, 469, 473, 474, 518, 543, 543, 543, 548, 548, 558, 562, 570, 573, 590, 620, 624, 641, 643, 657, 680, 681, 684, 698, 715, 716, 722, 724, 747, 748, 753, 784, 788, 800, 819, 825, 846, 860, 863, 889, 902, 911, 916, 921, 931, 934, 968, 973, 975, 987, 990, 991, 992, 996]\n"
     ]
    }
   ],
   "source": [
    "# Create 2 functions: 1 for the pivot 1 to sort\n",
    "\n",
    "def quick_sort(nums):\n",
    "\n",
    "    if len(nums) <= 1:\n",
    "        return nums\n",
    "    \n",
    "    \n",
    "    pivot = nums[-1]\n",
    "\n",
    "    count = 0\n",
    "    left_list = []\n",
    "    right_list = []\n",
    "\n",
    "    while count < (len(nums)-1):\n",
    "\n",
    "        if nums[count] <= pivot:\n",
    "            left_list.append(nums[count])\n",
    "\n",
    "        else:\n",
    "            right_list.append(nums[count])\n",
    "\n",
    "        count  = count + 1 \n",
    "\n",
    "       \n",
    "    left_list_sorted = quick_sort(left_list) \n",
    "    right_list_sorted = quick_sort(right_list)\n",
    "\n",
    "    return left_list_sorted + [pivot] + right_list_sorted\n",
    "\n",
    "\n",
    "\n",
    "unorder_list = [889, 105, 55, 137, 278, 657, 168, 265, 860, 245, 548, 590, 60, 466, 722, 991, 846, 287, 748, 27, 570, 992, 543, 788, 680, 391, 819, 698, 82, 753, 934, 747, 204, 372, 428, 59, 624, 716, 440, 996, 158, 715, 473, 518, 825, 863, 469, 180, 784, 244, 931, 224, 300, 221, 968, 990, 911, 285, 344, 24, 921, 681, 548, 543, 573, 261, 82, 368, 973, 987, 240, 643, 620, 641, 474, 194, 186, 86, 684, 447, 430, 416, 562, 558, 103, 295, 60, 902, 99, 19, 181, 149, 724, 543, 129, 975, 800, 2, 916, 450]\n",
    "#unorder_list = [2,87,14,2,6,1,9]\n",
    "print(quick_sort(unorder_list))\n",
    "\n",
    "\n"
   ]
  },
  {
   "cell_type": "code",
   "execution_count": 39,
   "metadata": {},
   "outputs": [
    {
     "name": "stdout",
     "output_type": "stream",
     "text": [
      "8\n"
     ]
    }
   ],
   "source": [
    "list = [2,3,4,7,8]\n",
    "print(list[-1])"
   ]
  }
 ],
 "metadata": {
  "kernelspec": {
   "display_name": "d2l",
   "language": "python",
   "name": "python3"
  },
  "language_info": {
   "codemirror_mode": {
    "name": "ipython",
    "version": 3
   },
   "file_extension": ".py",
   "mimetype": "text/x-python",
   "name": "python",
   "nbconvert_exporter": "python",
   "pygments_lexer": "ipython3",
   "version": "3.9.18"
  }
 },
 "nbformat": 4,
 "nbformat_minor": 2
}
